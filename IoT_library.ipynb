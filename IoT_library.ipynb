{
  "nbformat": 4,
  "nbformat_minor": 0,
  "metadata": {
    "colab": {
      "provenance": [],
      "authorship_tag": "ABX9TyMNE67gJKEwFTQ1LWBwGG2k",
      "include_colab_link": true
    },
    "kernelspec": {
      "name": "python3",
      "display_name": "Python 3"
    },
    "language_info": {
      "name": "python"
    }
  },
  "cells": [
    {
      "cell_type": "markdown",
      "metadata": {
        "id": "view-in-github",
        "colab_type": "text"
      },
      "source": [
        "<a href=\"https://colab.research.google.com/github/lusala-louis/IoT/blob/main/IoT_library.ipynb\" target=\"_parent\"><img src=\"https://colab.research.google.com/assets/colab-badge.svg\" alt=\"Open In Colab\"/></a>"
      ]
    },
    {
      "cell_type": "code",
      "execution_count": null,
      "metadata": {
        "id": "U0O4-sRFpVVK"
      },
      "outputs": [],
      "source": [
        "import Adafruit_DHT\n",
        "import MFRC522\n",
        "import RPi.GPIO as GPIO\n",
        "import time\n",
        "import firebase_admin\n",
        "from firebase_admin import credentials\n",
        "from firebase_admin import db\n",
        "\n",
        "# Initialize Firebase\n",
        "cred = credentials.Certificate(\"path/to/serviceAccountKey.json\")\n",
        "firebase_admin.initialize_app(cred, {\n",
        "    'databaseURL': 'https://firebase-project.firebaseio.com/'\n",
        "})\n",
        "\n",
        "# Firebase Realtime Database reference\n",
        "ref = db.reference('/sensor_data')\n",
        "\n",
        "# GPIO setup for DHT11 temperature and humidity sensor\n",
        "dht_pin = 4\n",
        "dht_sensor = Adafruit_DHT.DHT11\n",
        "\n",
        "# GPIO setup for RFID sensor (MFRC522)\n",
        "rfid_pin_rst = 22\n",
        "rfid_pin_ss = 24\n",
        "\n",
        "# Initialize the RFID sensor\n",
        "MIFAREReader = MFRC522.MFRC522()\n",
        "\n",
        "# Function to read temperature and humidity from DHT11 sensor\n",
        "def read_temperature_humidity():\n",
        "    humidity, temperature = Adafruit_DHT.read_retry(dht_sensor, dht_pin)\n",
        "    if humidity is not None and temperature is not None:\n",
        "        print(f\"Temperature: {temperature}°C\")\n",
        "        print(f\"Humidity: {humidity}%\")\n",
        "\n",
        "        # Send data to Firebase\n",
        "        data = {\n",
        "            'temperature': temperature,\n",
        "            'humidity': humidity\n",
        "        }\n",
        "        ref.child('temperature_humidity').set(data)\n",
        "    else:\n",
        "        print(\"Failed to retrieve data from DHT11 sensor.\")\n",
        "\n",
        "# Function to read RFID tag data from MFRC522 sensor\n",
        "def read_rfid():\n",
        "    (status, TagType) = MIFAREReader.MFRC522_Request(MIFAREReader.PICC_REQIDL)\n",
        "\n",
        "    if status == MIFAREReader.MI_OK:\n",
        "        print(\"RFID tag detected.\")\n",
        "\n",
        "        # Get the UID of the tag\n",
        "        (status, uid) = MIFAREReader.MFRC522_Anticoll()\n",
        "\n",
        "        if status == MIFAREReader.MI_OK:\n",
        "            uid_str = \":\".join([str(i) for i in uid])\n",
        "            print(f\"RFID tag UID: {uid_str}\")\n",
        "\n",
        "            # Send data to Firebase\n",
        "            data = {\n",
        "                'rfid_uid': uid_str\n",
        "            }\n",
        "            ref.child('rfid_data').set(data)\n",
        "        else:\n",
        "            print(\"Failed to read RFID tag.\")\n",
        "\n",
        "# Main loop\n",
        "try:\n",
        "    while True:\n",
        "        # Read temperature and humidity\n",
        "        read_temperature_humidity()\n",
        "\n",
        "        # Read RFID tag\n",
        "        read_rfid()\n",
        "\n",
        "        # Delay between readings\n",
        "        time.sleep(1)\n",
        "\n",
        "except KeyboardInterrupt:\n",
        "    GPIO.cleanup()\n"
      ]
    }
  ]
}